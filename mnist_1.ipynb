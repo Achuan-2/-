{
  "nbformat": 4,
  "nbformat_minor": 0,
  "metadata": {
    "colab": {
      "name": "mnist-1",
      "provenance": [],
      "collapsed_sections": [],
      "include_colab_link": true
    },
    "kernelspec": {
      "display_name": "Python 3",
      "name": "python3"
    }
  },
  "cells": [
    {
      "cell_type": "markdown",
      "metadata": {
        "id": "view-in-github",
        "colab_type": "text"
      },
      "source": [
        "<a href=\"https://colab.research.google.com/github/Achuan-2/Deep-Leaning/blob/main/mnist_1.ipynb\" target=\"_parent\"><img src=\"https://colab.research.google.com/assets/colab-badge.svg\" alt=\"Open In Colab\"/></a>"
      ]
    },
    {
      "cell_type": "markdown",
      "metadata": {
        "id": "rX8mhOLljYeM"
      },
      "source": [
        "##### Copyright 2019 The TensorFlow Authors."
      ]
    },
    {
      "cell_type": "code",
      "metadata": {
        "cellView": "form",
        "id": "BZSlp3DAjdYf"
      },
      "source": [
        "#@title Licensed under the Apache License, Version 2.0 (the \"License\");\n",
        "# you may not use this file except in compliance with the License.\n",
        "# You may obtain a copy of the License at\n",
        "#\n",
        "# https://www.apache.org/licenses/LICENSE-2.0\n",
        "#\n",
        "# Unless required by applicable law or agreed to in writing, software\n",
        "# distributed under the License is distributed on an \"AS IS\" BASIS,\n",
        "# WITHOUT WARRANTIES OR CONDITIONS OF ANY KIND, either express or implied.\n",
        "# See the License for the specific language governing permissions and\n",
        "# limitations under the License."
      ],
      "execution_count": 1,
      "outputs": []
    },
    {
      "cell_type": "markdown",
      "metadata": {
        "id": "3wF5wszaj97Y"
      },
      "source": [
        "# 初学者的 TensorFlow 2.0 教程"
      ]
    },
    {
      "cell_type": "markdown",
      "metadata": {
        "id": "DUNzJc4jTj6G"
      },
      "source": [
        "<table class=\"tfo-notebook-buttons\" align=\"left\">\n",
        "  <td>\n",
        "    <a target=\"_blank\" href=\"https://tensorflow.google.cn/tutorials/quickstart/beginner\"><img src=\"https://tensorflow.google.cn/images/tf_logo_32px.png\" />在 TensorFlow.org 观看</a>\n",
        "  </td>\n",
        "  <td>\n",
        "    <a target=\"_blank\" href=\"https://colab.research.google.com/github/tensorflow/docs-l10n/blob/master/site/zh-cn/tutorials/quickstart/beginner.ipynb\"><img src=\"https://tensorflow.google.cn/images/colab_logo_32px.png\" />在 Google Colab 运行</a>\n",
        "  </td>\n",
        "  <td>\n",
        "    <a target=\"_blank\" href=\"https://github.com/tensorflow/docs-l10n/blob/master/site/zh-cn/tutorials/quickstart/beginner.ipynb\"><img src=\"https://tensorflow.google.cn/images/GitHub-Mark-32px.png\" />在 GitHub 查看源代码</a>\n",
        "  </td>\n",
        "  <td>\n",
        "    <a href=\"https://storage.googleapis.com/tensorflow_docs/docs-l10n/site/zh-cn/tutorials/quickstart/beginner.ipynb\"><img src=\"https://tensorflow.google.cn/images/download_logo_32px.png\" />下载笔记本</a>\n",
        "  </td>\n",
        "</table>"
      ]
    },
    {
      "cell_type": "markdown",
      "metadata": {
        "id": "nnrWf3PCEzXL"
      },
      "source": [
        "下载并安装 TensorFlow 2.0 测试版包。将 TensorFlow 载入你的程序："
      ]
    },
    {
      "cell_type": "code",
      "metadata": {
        "id": "0trJmd6DjqBZ",
        "colab": {
          "base_uri": "https://localhost:8080/"
        },
        "outputId": "2cd39ab4-d501-40f2-8ec0-234d7efdfcf2"
      },
      "source": [
        "# 安装 TensorFlow\n",
        "# 导入包\n",
        "# TensorFlow and tf.keras\n",
        "import tensorflow as tf\n",
        "from tensorflow import keras\n",
        "\n",
        "# Helper libraries\n",
        "import numpy as np\n",
        "import matplotlib.pyplot as plt\n",
        "\n",
        "print(tf.__version__)"
      ],
      "execution_count": 2,
      "outputs": [
        {
          "output_type": "stream",
          "text": [
            "2.4.1\n"
          ],
          "name": "stdout"
        }
      ]
    },
    {
      "cell_type": "markdown",
      "metadata": {
        "id": "7NAbSZiaoJ4z"
      },
      "source": [
        "载入并准备好 [MNIST 数据集](http://yann.lecun.com/exdb/mnist/)。将样本从整数转换为浮点数："
      ]
    },
    {
      "cell_type": "code",
      "metadata": {
        "id": "7FP5258xjs-v"
      },
      "source": [
        "mnist = tf.keras.datasets.mnist\n",
        "\n",
        "(train_images, train_labels), (test_images, test_labels)= mnist.load_data()\n",
        "train_images, test_images = train_images / 255.0, test_images / 255.0"
      ],
      "execution_count": 3,
      "outputs": []
    },
    {
      "cell_type": "code",
      "metadata": {
        "colab": {
          "base_uri": "https://localhost:8080/"
        },
        "id": "1QDUjx57lsGb",
        "outputId": "33cca644-a380-4143-e03a-68010f78c30d"
      },
      "source": [
        "train_images.shape"
      ],
      "execution_count": 4,
      "outputs": [
        {
          "output_type": "execute_result",
          "data": {
            "text/plain": [
              "(60000, 28, 28)"
            ]
          },
          "metadata": {
            "tags": []
          },
          "execution_count": 4
        }
      ]
    },
    {
      "cell_type": "code",
      "metadata": {
        "colab": {
          "base_uri": "https://localhost:8080/"
        },
        "id": "ebOawVYXlykm",
        "outputId": "f0fb1c06-de97-404b-dcd9-984cc73269df"
      },
      "source": [
        "test_images.shape"
      ],
      "execution_count": 5,
      "outputs": [
        {
          "output_type": "execute_result",
          "data": {
            "text/plain": [
              "(10000, 28, 28)"
            ]
          },
          "metadata": {
            "tags": []
          },
          "execution_count": 5
        }
      ]
    },
    {
      "cell_type": "code",
      "metadata": {
        "colab": {
          "base_uri": "https://localhost:8080/"
        },
        "id": "bO2yJoQKmaix",
        "outputId": "35dc761e-2dab-42f4-8190-c424b6e65304"
      },
      "source": [
        "train_labels.shape"
      ],
      "execution_count": 6,
      "outputs": [
        {
          "output_type": "execute_result",
          "data": {
            "text/plain": [
              "(60000,)"
            ]
          },
          "metadata": {
            "tags": []
          },
          "execution_count": 6
        }
      ]
    },
    {
      "cell_type": "code",
      "metadata": {
        "colab": {
          "base_uri": "https://localhost:8080/"
        },
        "id": "FJCJP8qfmdzL",
        "outputId": "f357253d-6720-4ebd-ddf6-d001d6775d04"
      },
      "source": [
        "train_labels[0]"
      ],
      "execution_count": 7,
      "outputs": [
        {
          "output_type": "execute_result",
          "data": {
            "text/plain": [
              "5"
            ]
          },
          "metadata": {
            "tags": []
          },
          "execution_count": 7
        }
      ]
    },
    {
      "cell_type": "code",
      "metadata": {
        "id": "AZ4cgMrgmIhr"
      },
      "source": [
        "# train_images[0]"
      ],
      "execution_count": 8,
      "outputs": []
    },
    {
      "cell_type": "code",
      "metadata": {
        "colab": {
          "base_uri": "https://localhost:8080/",
          "height": 151
        },
        "id": "FjrQWcaDl37f",
        "outputId": "087c9ed7-7cde-4509-b8ed-e9b4269a7c43"
      },
      "source": [
        "plt.figure(figsize=(2,2))\n",
        "plt.imshow(train_images[0],cmap=plt.cm.binary)\n",
        "plt.colorbar()\n",
        "plt.grid(False)\n",
        "plt.show()"
      ],
      "execution_count": 9,
      "outputs": [
        {
          "output_type": "display_data",
          "data": {
            "image/png": "[encoded data removed]",
            "text/plain": [
              "<Figure size 144x144 with 2 Axes>"
            ]
          },
          "metadata": {
            "tags": [],
            "needs_background": "light"
          }
        }
      ]
    },
    {
      "cell_type": "code",
      "metadata": {
        "colab": {
          "base_uri": "https://localhost:8080/",
          "height": 589
        },
        "id": "fNayUvJdmw7b",
        "outputId": "08663d16-c4f3-4c80-adfe-7e82cb803547"
      },
      "source": [
        "#显示训练集中的前 25 个图像，并在每个图像下方显示类名称。\n",
        "plt.figure(figsize=(10,10))\n",
        "for i in range(25):\n",
        "    plt.subplot(5,5,i+1)\n",
        "    plt.xticks([])\n",
        "    plt.yticks([])\n",
        "    plt.grid(True)\n",
        "    plt.imshow(train_images[i], cmap=plt.cm.binary)\n",
        "    # plt.imshow(train_images[i], cmap=plt.cm.ocean)\n",
        "    plt.xlabel(train_labels[i])\n",
        "plt.show()"
      ],
      "execution_count": 10,
      "outputs": [
        {
          "output_type": "display_data",
          "data": {
            "image/png": "[encoded data removed]",
            "text/plain": [
              "<Figure size 720x720 with 25 Axes>"
            ]
          },
          "metadata": {
            "tags": []
          }
        }
      ]
    },
    {
      "cell_type": "markdown",
      "metadata": {
        "id": "cTvIydWmYobp"
      },
      "source": [
        "## 基本模型"
      ]
    },
    {
      "cell_type": "markdown",
      "metadata": {
        "id": "BPZ68wASog_I"
      },
      "source": [
        "将模型的各层堆叠起来，以搭建 `tf.keras.Sequential` 模型。为训练选择优化器和损失函数："
      ]
    },
    {
      "cell_type": "code",
      "metadata": {
        "id": "h3IKyzTCDNGo"
      },
      "source": [
        "model = tf.keras.models.Sequential([\n",
        "  tf.keras.layers.Flatten(input_shape=(28, 28)),\n",
        "  tf.keras.layers.Dense(128, activation='relu'),\n",
        "  tf.keras.layers.Dropout(0.2),\n",
        "  tf.keras.layers.Dense(10, activation='softmax')\n",
        "])\n",
        "\n",
        "model.compile(optimizer='adam',\n",
        "              loss='sparse_categorical_crossentropy',\n",
        "              metrics=['accuracy'])"
      ],
      "execution_count": 11,
      "outputs": []
    },
    {
      "cell_type": "markdown",
      "metadata": {
        "id": "ix4mEL65on-w"
      },
      "source": [
        "训练并验证模型："
      ]
    },
    {
      "cell_type": "code",
      "metadata": {
        "id": "F7dTAzgHDUh7",
        "colab": {
          "base_uri": "https://localhost:8080/"
        },
        "outputId": "5d119900-13bb-4de1-e4f0-e70b78ef7f33"
      },
      "source": [
        "model.fit(train_images, train_labels, epochs=5)\n",
        "\n",
        "model.evaluate(test_images,  test_labels, verbose=2)"
      ],
      "execution_count": 12,
      "outputs": [
        {
          "output_type": "stream",
          "text": [
            "Epoch 1/5\n",
            "1875/1875 [==============================] - 5s 2ms/step - loss: 0.4816 - accuracy: 0.8590\n",
            "Epoch 2/5\n",
            "1875/1875 [==============================] - 4s 2ms/step - loss: 0.1480 - accuracy: 0.9565\n",
            "Epoch 3/5\n",
            "1875/1875 [==============================] - 4s 2ms/step - loss: 0.1101 - accuracy: 0.9662\n",
            "Epoch 4/5\n",
            "1875/1875 [==============================] - 4s 2ms/step - loss: 0.0877 - accuracy: 0.9731\n",
            "Epoch 5/5\n",
            "1875/1875 [==============================] - 4s 2ms/step - loss: 0.0734 - accuracy: 0.9758\n",
            "313/313 - 0s - loss: 0.0787 - accuracy: 0.9755\n"
          ],
          "name": "stdout"
        },
        {
          "output_type": "execute_result",
          "data": {
            "text/plain": [
              "[0.07865092158317566, 0.9754999876022339]"
            ]
          },
          "metadata": {
            "tags": []
          },
          "execution_count": 12
        }
      ]
    },
    {
      "cell_type": "markdown",
      "metadata": {
        "id": "T4JfEh7kvx6m"
      },
      "source": [
        "现在，这个照片分类器的准确度已经达到 97%。想要了解更多，请阅读 [TensorFlow 教程](https://tensorflow.google.cn/tutorials/)。"
      ]
    },
    {
      "cell_type": "code",
      "metadata": {
        "colab": {
          "base_uri": "https://localhost:8080/"
        },
        "id": "ubJOANoInUdG",
        "outputId": "af98d4ff-0890-4fe5-a51d-345a825285b1"
      },
      "source": [
        "# 如果直接进行预测\n",
        "predictions = model.predict(test_images)\n",
        "predictions[0]"
      ],
      "execution_count": 13,
      "outputs": [
        {
          "output_type": "execute_result",
          "data": {
            "text/plain": [
              "array([9.3702226e-08, 3.8439238e-09, 1.0153235e-05, 4.0473364e-04,\n",
              "       9.8371127e-13, 2.0263921e-07, 1.1544606e-14, 9.9956685e-01,\n",
              "       1.1443450e-07, 1.7788989e-05], dtype=float32)"
            ]
          },
          "metadata": {
            "tags": []
          },
          "execution_count": 13
        }
      ]
    },
    {
      "cell_type": "markdown",
      "metadata": {
        "id": "8K7iQd12Y6MM"
      },
      "source": [
        "softmax \n",
        "$$\n",
        "S_{i}=\\frac{e^{i}}{\\sum_{j} e^{j}}\n",
        "$$"
      ]
    },
    {
      "cell_type": "code",
      "metadata": {
        "colab": {
          "base_uri": "https://localhost:8080/"
        },
        "id": "HBLdSLKkojII",
        "outputId": "d097a41f-a8ed-4931-a723-25e9c3ea0b55"
      },
      "source": [
        "# 在原有模型基础上附加一个 softmax  层，将 logits 转换成更容易理解的概率。\n",
        "probability_model = tf.keras.Sequential([model,tf.keras.layers.Softmax()])\n",
        "predictions = probability_model.predict(test_images)\n",
        "predictions[0]"
      ],
      "execution_count": 14,
      "outputs": [
        {
          "output_type": "execute_result",
          "data": {
            "text/plain": [
              "array([0.08534218, 0.08534217, 0.08534303, 0.08537671, 0.08534217,\n",
              "       0.08534218, 0.08534217, 0.2318836 , 0.08534218, 0.08534368],\n",
              "      dtype=float32)"
            ]
          },
          "metadata": {
            "tags": []
          },
          "execution_count": 14
        }
      ]
    },
    {
      "cell_type": "code",
      "metadata": {
        "colab": {
          "base_uri": "https://localhost:8080/"
        },
        "id": "mFNIXpS1oqIA",
        "outputId": "db73e3b9-3c58-4ac8-f52b-4d08b88d568b"
      },
      "source": [
        "np.argmax(predictions[0])"
      ],
      "execution_count": 15,
      "outputs": [
        {
          "output_type": "execute_result",
          "data": {
            "text/plain": [
              "7"
            ]
          },
          "metadata": {
            "tags": []
          },
          "execution_count": 15
        }
      ]
    },
    {
      "cell_type": "code",
      "metadata": {
        "id": "4ysxXiW0pFRL"
      },
      "source": [
        "# 图片绘制函数\n",
        "def plot_image(i, predictions_array, label_array, img_array):\n",
        "  predictions_array, true_label, img = predictions_array[i], label_array[i], img_array[i]\n",
        "  plt.grid(False)\n",
        "  plt.xticks([])\n",
        "  plt.yticks([])\n",
        "  plt.imshow(img, cmap=plt.cm.binary)\n",
        "\n",
        "  predicted_label = np.argmax(predictions_array)\n",
        "  if predicted_label == true_label:\n",
        "    color = 'blue'\n",
        "  else:\n",
        "    color = 'red'\n",
        "\n",
        "  plt.xlabel(\"{} {:2.0f}% ({})\".format(predicted_label,\n",
        "                                100*np.max(predictions_array),\n",
        "                                true_label),\n",
        "                                color=color)\n",
        "\n",
        "# 概率绘制\n",
        "def plot_value_array(i, predictions_array, label_array):\n",
        "  predictions_array, true_label = predictions_array[i], label_array[i]\n",
        "  plt.grid(False)\n",
        "  plt.xticks(range(10))\n",
        "  plt.yticks([])\n",
        "  thisplot = plt.bar(range(10), predictions_array, color=\"#777777\")\n",
        "  plt.ylim([0, 1])\n",
        "  predicted_label = np.argmax(predictions_array)\n",
        "\n",
        "  thisplot[predicted_label].set_color('red')\n",
        "  thisplot[true_label].set_color('blue')"
      ],
      "execution_count": 16,
      "outputs": []
    },
    {
      "cell_type": "code",
      "metadata": {
        "colab": {
          "base_uri": "https://localhost:8080/",
          "height": 211
        },
        "id": "-GyPZv0VpTDE",
        "outputId": "8a1b38fe-6e0b-490c-c65a-b6edc7699e19"
      },
      "source": [
        "i = 0\n",
        "plt.figure(figsize=(6,3))\n",
        "plt.subplot(1,2,1)\n",
        "plot_image(i, predictions, test_labels, test_images)\n",
        "plt.subplot(1,2,2)\n",
        "plot_value_array(i, predictions, test_labels)\n",
        "plt.show()"
      ],
      "execution_count": 17,
      "outputs": [
        {
          "output_type": "display_data",
          "data": {
            "image/png": "[encoded data removed]",
            "text/plain": [
              "<Figure size 432x216 with 2 Axes>"
            ]
          },
          "metadata": {
            "tags": [],
            "needs_background": "light"
          }
        }
      ]
    },
    {
      "cell_type": "code",
      "metadata": {
        "colab": {
          "base_uri": "https://localhost:8080/",
          "height": 724
        },
        "id": "nHiQ0CVNprWY",
        "outputId": "906e4413-2f14-4d96-fe23-7141fc23854c"
      },
      "source": [
        "# 预测结果可视化\n",
        "num_rows = 5\n",
        "num_cols = 5\n",
        "num_images = num_rows*num_cols\n",
        "plt.figure(figsize=(2*2*num_cols, 2*num_rows))\n",
        "for i in range(num_images):\n",
        "  plt.subplot(num_rows, 2*num_cols, 2*i+1)\n",
        "  plot_image(i, predictions, test_labels, test_images)\n",
        "  plt.subplot(num_rows, 2*num_cols, 2*i+2)\n",
        "  plot_value_array(i, predictions, test_labels)\n",
        "plt.tight_layout()\n",
        "plt.show()"
      ],
      "execution_count": 18,
      "outputs": [
        {
          "output_type": "display_data",
          "data": {
            "image/png": "[encoded data removed]",
            "text/plain": [
              "<Figure size 1440x720 with 50 Axes>"
            ]
          },
          "metadata": {
            "tags": [],
            "needs_background": "light"
          }
        }
      ]
    },
    {
      "cell_type": "code",
      "metadata": {
        "id": "3WtCIvkPv6zT"
      },
      "source": [
        "# 直接分析结果函数\n",
        "def predict_result(i, predictions_array, label_array, img_array,right_array,error_array):\n",
        "    predictions_array, true_label, img = predictions_array[i], label_array[i], img_array[i]\n",
        "    predicted_label = np.argmax(predictions_array)\n",
        "    message=\"序号{}\\t 预测为{}\\t概率{:2.0f}%\\t实际是 ({})\".format(i,predicted_label,\n",
        "                                100*np.max(predictions_array),true_label)\n",
        "\n",
        "    if predicted_label == true_label:\n",
        "        # print(message,\"\\t预测成功！\")\n",
        "        right_array.append(message)\n",
        "    else:\n",
        "        # print(message,\"\\t预测失败！\")\n",
        "        error_array.append(message)\n",
        "\n",
        "right_array=[]\n",
        "error_array=[]\n",
        "num_images=10000\n",
        "for i in range(num_images):\n",
        "    predict_result(i, predictions, test_labels, test_images,right_array,error_array)"
      ],
      "execution_count": 19,
      "outputs": []
    },
    {
      "cell_type": "code",
      "metadata": {
        "colab": {
          "base_uri": "https://localhost:8080/"
        },
        "id": "sDuihaoSwUMN",
        "outputId": "217d4bbf-b4c1-4fbb-c462-82fc20a2b422"
      },
      "source": [
        "print(error_array)\n",
        "print(len(error_array))"
      ],
      "execution_count": 20,
      "outputs": [
        {
          "output_type": "stream",
          "text": [
            "['序号151\\t 预测为8\\t概率21%\\t实际是 (9)', '序号247\\t 预测为6\\t概率16%\\t实际是 (4)', '序号274\\t 预测为3\\t概率15%\\t实际是 (9)', '序号320\\t 预测为1\\t概率13%\\t实际是 (9)', '序号321\\t 预测为7\\t概率20%\\t实际是 (2)', '序号340\\t 预测为3\\t概率20%\\t实际是 (5)', '序号381\\t 预测为7\\t概率15%\\t实际是 (3)', '序号445\\t 预测为0\\t概率23%\\t实际是 (6)', '序号448\\t 预测为3\\t概率14%\\t实际是 (9)', '序号495\\t 预测为0\\t概率20%\\t实际是 (8)', '序号582\\t 预测为2\\t概率19%\\t实际是 (8)', '序号610\\t 预测为6\\t概率16%\\t实际是 (4)', '序号613\\t 预测为8\\t概率15%\\t实际是 (2)', '序号619\\t 预测为8\\t概率16%\\t实际是 (1)', '序号659\\t 预测为1\\t概率19%\\t实际是 (2)', '序号684\\t 预测为3\\t概率21%\\t实际是 (7)', '序号691\\t 预测为4\\t概率20%\\t实际是 (8)', '序号717\\t 预测为6\\t概率20%\\t实际是 (0)', '序号720\\t 预测为8\\t概率23%\\t实际是 (5)', '序号740\\t 预测为9\\t概率19%\\t实际是 (4)', '序号810\\t 预测为2\\t概率15%\\t实际是 (7)', '序号844\\t 预测为7\\t概率15%\\t实际是 (8)', '序号947\\t 预测为9\\t概率20%\\t实际是 (8)', '序号951\\t 预测为4\\t概率18%\\t实际是 (5)', '序号956\\t 预测为2\\t概率16%\\t实际是 (1)', '序号1014\\t 预测为5\\t概率22%\\t实际是 (6)', '序号1039\\t 预测为2\\t概率14%\\t实际是 (7)', '序号1044\\t 预测为8\\t概率17%\\t实际是 (6)', '序号1107\\t 预测为3\\t概率20%\\t实际是 (9)', '序号1112\\t 预测为6\\t概率23%\\t实际是 (4)', '序号1156\\t 预测为8\\t概率17%\\t实际是 (7)', '序号1181\\t 预测为1\\t概率20%\\t实际是 (6)', '序号1226\\t 预测为2\\t概率23%\\t实际是 (7)', '序号1232\\t 预测为4\\t概率17%\\t实际是 (9)', '序号1242\\t 预测为9\\t概率18%\\t实际是 (4)', '序号1247\\t 预测为5\\t概率17%\\t实际是 (9)', '序号1260\\t 预测为1\\t概率19%\\t实际是 (7)', '序号1299\\t 预测为3\\t概率18%\\t实际是 (5)', '序号1319\\t 预测为3\\t概率20%\\t实际是 (8)', '序号1325\\t 预测为6\\t概率19%\\t实际是 (8)', '序号1328\\t 预测为9\\t概率18%\\t实际是 (7)', '序号1393\\t 预测为3\\t概率23%\\t实际是 (5)', '序号1444\\t 预测为4\\t概率19%\\t实际是 (6)', '序号1494\\t 预测为0\\t概率14%\\t实际是 (7)', '序号1500\\t 预测为1\\t概率22%\\t实际是 (7)', '序号1522\\t 预测为9\\t概率20%\\t实际是 (7)', '序号1530\\t 预测为7\\t概率23%\\t实际是 (8)', '序号1549\\t 预测为6\\t概率23%\\t实际是 (4)', '序号1553\\t 预测为3\\t概率22%\\t实际是 (9)', '序号1609\\t 预测为3\\t概率18%\\t实际是 (2)', '序号1621\\t 预测为6\\t概率20%\\t实际是 (0)', '序号1681\\t 预测为7\\t概率23%\\t实际是 (3)', '序号1709\\t 预测为8\\t概率12%\\t实际是 (9)', '序号1717\\t 预测为0\\t概率20%\\t实际是 (8)', '序号1751\\t 预测为2\\t概率18%\\t实际是 (4)', '序号1754\\t 预测为2\\t概率16%\\t实际是 (7)', '序号1773\\t 预测为6\\t概率17%\\t实际是 (1)', '序号1790\\t 预测为8\\t概率17%\\t实际是 (2)', '序号1850\\t 预测为7\\t概率13%\\t实际是 (8)', '序号1878\\t 预测为3\\t概率20%\\t实际是 (8)', '序号1901\\t 预测为4\\t概率20%\\t实际是 (9)', '序号1903\\t 预测为2\\t概率14%\\t实际是 (7)', '序号1941\\t 预测为2\\t概率12%\\t实际是 (7)', '序号1952\\t 预测为3\\t概率16%\\t实际是 (9)', '序号1984\\t 预测为0\\t概率21%\\t实际是 (2)', '序号2004\\t 预测为3\\t概率16%\\t实际是 (8)', '序号2016\\t 预测为2\\t概率20%\\t实际是 (7)', '序号2024\\t 预测为9\\t概率21%\\t实际是 (7)', '序号2035\\t 预测为3\\t概率21%\\t实际是 (5)', '序号2053\\t 预测为9\\t概率22%\\t实际是 (4)', '序号2070\\t 预测为9\\t概率22%\\t实际是 (7)', '序号2098\\t 预测为0\\t概率21%\\t实际是 (2)', '序号2109\\t 预测为7\\t概率20%\\t实际是 (3)', '序号2118\\t 预测为0\\t概率22%\\t实际是 (6)', '序号2130\\t 预测为9\\t概率19%\\t实际是 (4)', '序号2135\\t 预测为1\\t概率23%\\t实际是 (6)', '序号2182\\t 预测为2\\t概率22%\\t实际是 (1)', '序号2189\\t 预测为8\\t概率17%\\t实际是 (9)', '序号2272\\t 预测为0\\t概率17%\\t实际是 (8)', '序号2293\\t 预测为0\\t概率18%\\t实际是 (9)', '序号2369\\t 预测为9\\t概率14%\\t实际是 (5)', '序号2371\\t 预测为9\\t概率16%\\t实际是 (4)', '序号2387\\t 预测为1\\t概率23%\\t实际是 (9)', '序号2393\\t 预测为3\\t概率17%\\t实际是 (8)', '序号2395\\t 预测为3\\t概率21%\\t实际是 (8)', '序号2406\\t 预测为1\\t概率14%\\t实际是 (9)', '序号2414\\t 预测为4\\t概率14%\\t实际是 (9)', '序号2433\\t 预测为1\\t概率16%\\t实际是 (2)', '序号2462\\t 预测为0\\t概率20%\\t实际是 (2)', '序号2488\\t 预测为4\\t概率21%\\t实际是 (2)', '序号2514\\t 预测为9\\t概率18%\\t实际是 (4)', '序号2526\\t 预测为3\\t概率17%\\t实际是 (5)', '序号2582\\t 预测为5\\t概率16%\\t实际是 (9)', '序号2607\\t 预测为3\\t概率14%\\t实际是 (7)', '序号2648\\t 预测为0\\t概率21%\\t实际是 (9)', '序号2654\\t 预测为1\\t概率23%\\t实际是 (6)', '序号2658\\t 预测为8\\t概率14%\\t实际是 (4)', '序号2743\\t 预测为8\\t概率16%\\t实际是 (5)', '序号2877\\t 预测为7\\t概率15%\\t实际是 (4)', '序号2896\\t 预测为0\\t概率21%\\t实际是 (8)', '序号2921\\t 预测为2\\t概率15%\\t实际是 (3)', '序号2927\\t 预测为2\\t概率18%\\t实际是 (3)', '序号2939\\t 预测为0\\t概率19%\\t实际是 (9)', '序号2953\\t 预测为5\\t概率23%\\t实际是 (3)', '序号2970\\t 预测为3\\t概率19%\\t实际是 (5)', '序号3005\\t 预测为1\\t概率22%\\t实际是 (9)', '序号3060\\t 预测为7\\t概率17%\\t实际是 (9)', '序号3073\\t 预测为2\\t概率20%\\t实际是 (1)', '序号3117\\t 预测为9\\t概率22%\\t实际是 (5)', '序号3206\\t 预测为3\\t概率16%\\t实际是 (8)', '序号3369\\t 预测为1\\t概率17%\\t实际是 (9)', '序号3377\\t 预测为6\\t概率19%\\t实际是 (4)', '序号3503\\t 预测为1\\t概率23%\\t实际是 (9)', '序号3520\\t 预测为4\\t概率23%\\t实际是 (6)', '序号3549\\t 预测为2\\t概率17%\\t实际是 (3)', '序号3558\\t 预测为0\\t概率22%\\t实际是 (5)', '序号3565\\t 预测为8\\t概率16%\\t实际是 (5)', '序号3597\\t 预测为3\\t概率21%\\t实际是 (9)', '序号3604\\t 预测为0\\t概率15%\\t实际是 (7)', '序号3751\\t 预测为2\\t概率21%\\t实际是 (7)', '序号3767\\t 预测为3\\t概率17%\\t实际是 (7)', '序号3776\\t 预测为8\\t概率20%\\t实际是 (5)', '序号3780\\t 预测为6\\t概率23%\\t实际是 (4)', '序号3808\\t 预测为3\\t概率18%\\t实际是 (7)', '序号3811\\t 预测为3\\t概率22%\\t实际是 (2)', '序号3818\\t 预测为6\\t概率14%\\t实际是 (0)', '序号3838\\t 预测为1\\t概率22%\\t实际是 (7)', '序号3853\\t 预测为5\\t概率19%\\t实际是 (6)', '序号3893\\t 预测为6\\t概率19%\\t实际是 (5)', '序号3906\\t 预测为3\\t概率18%\\t实际是 (1)', '序号3926\\t 预测为3\\t概率15%\\t实际是 (9)', '序号3941\\t 预测为6\\t概率20%\\t实际是 (4)', '序号3943\\t 预测为5\\t概率15%\\t实际是 (3)', '序号3976\\t 预测为1\\t概率17%\\t实际是 (7)', '序号3985\\t 预测为4\\t概率20%\\t实际是 (9)', '序号4027\\t 预测为1\\t概率13%\\t实际是 (7)', '序号4065\\t 预测为3\\t概率11%\\t实际是 (0)', '序号4075\\t 预测为3\\t概率18%\\t实际是 (8)', '序号4078\\t 预测为3\\t概率18%\\t实际是 (9)', '序号4102\\t 预测为9\\t概率17%\\t实际是 (7)', '序号4151\\t 预测为9\\t概率15%\\t实际是 (7)', '序号4152\\t 预测为1\\t概率17%\\t实际是 (5)', '序号4163\\t 预测为0\\t概率15%\\t实际是 (9)', '序号4176\\t 预测为7\\t概率21%\\t实际是 (2)', '序号4199\\t 预测为9\\t概率20%\\t实际是 (7)', '序号4224\\t 预测为7\\t概率17%\\t实际是 (9)', '序号4248\\t 预测为8\\t概率22%\\t实际是 (2)', '序号4289\\t 预测为7\\t概率20%\\t实际是 (2)', '序号4369\\t 预测为4\\t概率17%\\t实际是 (9)', '序号4433\\t 预测为2\\t概率20%\\t实际是 (7)', '序号4497\\t 预测为7\\t概率21%\\t实际是 (8)', '序号4500\\t 预测为1\\t概率20%\\t实际是 (9)', '序号4536\\t 预测为5\\t概率16%\\t实际是 (6)', '序号4601\\t 预测为4\\t概率21%\\t实际是 (8)', '序号4635\\t 预测为5\\t概率17%\\t实际是 (3)', '序号4639\\t 预测为9\\t概率15%\\t实际是 (8)', '序号4671\\t 预测为3\\t概率17%\\t实际是 (8)', '序号4731\\t 预测为7\\t概率17%\\t实际是 (8)', '序号4740\\t 预测为5\\t概率16%\\t实际是 (3)', '序号4751\\t 预测为6\\t概率21%\\t实际是 (4)', '序号4807\\t 预测为3\\t概率22%\\t实际是 (8)', '序号4814\\t 预测为0\\t概率16%\\t实际是 (6)', '序号4823\\t 预测为4\\t概率21%\\t实际是 (9)', '序号4861\\t 预测为3\\t概率17%\\t实际是 (7)', '序号4880\\t 预测为8\\t概率20%\\t实际是 (0)', '序号4890\\t 预测为3\\t概率19%\\t实际是 (8)', '序号4956\\t 预测为4\\t概率21%\\t实际是 (8)', '序号4966\\t 预测为1\\t概率15%\\t实际是 (7)', '序号5140\\t 预测为5\\t概率14%\\t实际是 (3)', '序号5331\\t 预测为6\\t概率23%\\t实际是 (1)', '序号5457\\t 预测为8\\t概率22%\\t实际是 (1)', '序号5495\\t 预测为3\\t概率16%\\t实际是 (8)', '序号5564\\t 预测为2\\t概率21%\\t实际是 (4)', '序号5634\\t 预测为3\\t概率20%\\t实际是 (2)', '序号5642\\t 预测为8\\t概率20%\\t实际是 (1)', '序号5676\\t 预测为3\\t概率16%\\t实际是 (4)', '序号5734\\t 预测为7\\t概率22%\\t实际是 (3)', '序号5749\\t 预测为5\\t概率16%\\t实际是 (8)', '序号5887\\t 预测为0\\t概率22%\\t实际是 (7)', '序号5888\\t 预测为6\\t概率16%\\t实际是 (4)', '序号5922\\t 预测为3\\t概率16%\\t实际是 (5)', '序号5937\\t 预测为3\\t概率18%\\t实际是 (5)', '序号5955\\t 预测为8\\t概率22%\\t实际是 (3)', '序号5972\\t 预测为3\\t概率20%\\t实际是 (5)', '序号5973\\t 预测为8\\t概率18%\\t实际是 (3)', '序号6071\\t 预测为3\\t概率23%\\t实际是 (9)', '序号6091\\t 预测为3\\t概率16%\\t实际是 (9)', '序号6166\\t 预测为3\\t概率23%\\t实际是 (9)', '序号6168\\t 预测为3\\t概率22%\\t实际是 (9)', '序号6505\\t 预测为0\\t概率15%\\t实际是 (9)', '序号6555\\t 预测为9\\t概率21%\\t实际是 (8)', '序号6560\\t 预测为3\\t概率17%\\t实际是 (9)', '序号6568\\t 预测为4\\t概率17%\\t实际是 (9)', '序号6571\\t 预测为7\\t概率16%\\t实际是 (9)', '序号6574\\t 预测为6\\t概率21%\\t实际是 (2)', '序号6597\\t 预测为7\\t概率20%\\t实际是 (0)', '序号6598\\t 预测为3\\t概率18%\\t实际是 (5)', '序号6608\\t 预测为5\\t概率18%\\t实际是 (9)', '序号6625\\t 预测为4\\t概率13%\\t实际是 (8)', '序号6632\\t 预测为5\\t概率13%\\t实际是 (9)', '序号6651\\t 预测为8\\t概率14%\\t实际是 (0)', '序号6744\\t 预测为8\\t概率15%\\t实际是 (2)', '序号6755\\t 预测为7\\t概率16%\\t实际是 (8)', '序号6783\\t 预测为6\\t概率17%\\t实际是 (1)', '序号7216\\t 预测为3\\t概率18%\\t实际是 (0)', '序号7434\\t 预测为8\\t概率20%\\t实际是 (4)', '序号7459\\t 预测为5\\t概率15%\\t实际是 (9)', '序号7511\\t 预测为3\\t概率16%\\t实际是 (5)', '序号7812\\t 预测为8\\t概率18%\\t实际是 (1)', '序号7886\\t 预测为4\\t概率23%\\t实际是 (2)', '序号7899\\t 预测为8\\t概率17%\\t实际是 (1)', '序号7990\\t 预测为8\\t概率17%\\t实际是 (1)', '序号8020\\t 预测为8\\t概率19%\\t实际是 (1)', '序号8062\\t 预测为8\\t概率17%\\t实际是 (5)', '序号8081\\t 预测为6\\t概率19%\\t实际是 (4)', '序号8094\\t 预测为8\\t概率16%\\t实际是 (2)', '序号8095\\t 预测为6\\t概率19%\\t实际是 (4)', '序号8294\\t 预测为5\\t概率17%\\t实际是 (8)', '序号8325\\t 预测为6\\t概率20%\\t实际是 (0)', '序号8520\\t 预测为9\\t概率21%\\t实际是 (4)', '序号8527\\t 预测为9\\t概率16%\\t实际是 (4)', '序号9009\\t 预测为2\\t概率23%\\t实际是 (7)', '序号9015\\t 预测为2\\t概率23%\\t实际是 (7)', '序号9019\\t 预测为2\\t概率20%\\t实际是 (7)', '序号9024\\t 预测为2\\t概率23%\\t实际是 (7)', '序号9280\\t 预测为5\\t概率20%\\t实际是 (8)', '序号9385\\t 预测为6\\t概率17%\\t实际是 (8)', '序号9394\\t 预测为5\\t概率16%\\t实际是 (8)', '序号9530\\t 预测为8\\t概率18%\\t实际是 (9)', '序号9587\\t 预测为4\\t概率23%\\t实际是 (9)', '序号9634\\t 预测为3\\t概率21%\\t实际是 (0)', '序号9664\\t 预测为7\\t概率22%\\t实际是 (2)', '序号9679\\t 预测为3\\t概率20%\\t实际是 (6)', '序号9698\\t 预测为5\\t概率15%\\t实际是 (6)', '序号9700\\t 预测为8\\t概率19%\\t实际是 (2)', '序号9729\\t 预测为6\\t概率21%\\t实际是 (5)', '序号9745\\t 预测为2\\t概率14%\\t实际是 (4)', '序号9768\\t 预测为0\\t概率20%\\t实际是 (2)', '序号9770\\t 预测为0\\t概率21%\\t实际是 (5)', '序号9777\\t 预测为0\\t概率15%\\t实际是 (5)', '序号9779\\t 预测为0\\t概率18%\\t实际是 (2)', '序号9811\\t 预测为8\\t概率21%\\t实际是 (2)', '序号9839\\t 预测为7\\t概率19%\\t实际是 (2)', '序号9904\\t 预测为0\\t概率18%\\t实际是 (2)', '序号9944\\t 预测为5\\t概率16%\\t实际是 (3)']\n",
            "245\n"
          ],
          "name": "stdout"
        }
      ]
    },
    {
      "cell_type": "code",
      "metadata": {
        "colab": {
          "base_uri": "https://localhost:8080/",
          "height": 211
        },
        "id": "cYd4C39Uwkw8",
        "outputId": "8d4a2cd4-8b2a-4c1d-9da4-490082571597"
      },
      "source": [
        "# 检查预测失败的图\n",
        "i = 151\n",
        "plt.figure(figsize=(6,3))\n",
        "plt.subplot(1,2,1)\n",
        "plot_image(i, predictions, test_labels, test_images)\n",
        "plt.subplot(1,2,2)\n",
        "plot_value_array(i, predictions, test_labels)\n",
        "plt.show()"
      ],
      "execution_count": 21,
      "outputs": [
        {
          "output_type": "display_data",
          "data": {
            "image/png": "[encoded data removed]",
            "text/plain": [
              "<Figure size 432x216 with 2 Axes>"
            ]
          },
          "metadata": {
            "tags": [],
            "needs_background": "light"
          }
        }
      ]
    },
    {
      "cell_type": "code",
      "metadata": {
        "colab": {
          "base_uri": "https://localhost:8080/",
          "height": 211
        },
        "id": "SyHN4dzBw-60",
        "outputId": "c9c86106-8193-40b3-dec7-fb4fc72df4b2"
      },
      "source": [
        "i = 247\n",
        "plt.figure(figsize=(6,3))\n",
        "plt.subplot(1,2,1)\n",
        "plot_image(i, predictions, test_labels, test_images)\n",
        "plt.subplot(1,2,2)\n",
        "plot_value_array(i, predictions, test_labels)\n",
        "plt.show()"
      ],
      "execution_count": 22,
      "outputs": [
        {
          "output_type": "display_data",
          "data": {
            "image/png": "[encoded data removed]",
            "text/plain": [
              "<Figure size 432x216 with 2 Axes>"
            ]
          },
          "metadata": {
            "tags": [],
            "needs_background": "light"
          }
        }
      ]
    },
    {
      "cell_type": "markdown",
      "metadata": {
        "id": "oPRz3bYFaC5a"
      },
      "source": [
        "## 卷积神经网络"
      ]
    },
    {
      "cell_type": "code",
      "metadata": {
        "id": "IGtsdQlMaG8L"
      },
      "source": [
        "\n",
        "model_c = tf.keras.models.Sequential([\n",
        "  tf.keras.layers.Conv2D(32, (3, 3), activation='relu', input_shape=(28, 28, 1)),\n",
        "  tf.keras.layers.MaxPooling2D((2, 2)),\n",
        "  tf.keras.layers.Conv2D(64, (3, 3), activation='relu'),\n",
        "  tf.keras.layers.MaxPooling2D((2, 2)),\n",
        "  tf.keras.layers.Conv2D(14, (3, 3), activation='relu'),\n",
        "  tf.keras.layers.Flatten(),\n",
        "  tf.keras.layers.Dense(64, activation='relu'),\n",
        "  tf.keras.layers.Dense(10,activation='softmax')\n",
        "])\n"
      ],
      "execution_count": 23,
      "outputs": []
    },
    {
      "cell_type": "markdown",
      "metadata": {
        "id": "5vq8kFHHpBtm"
      },
      "source": [
        "[使用CNN时报错，ValueError: Input 0 of layer sequential is incompatible with the layer](https://blog.csdn.net/ghedhrjeerdjh/article/details/114540102)"
      ]
    },
    {
      "cell_type": "code",
      "metadata": {
        "id": "PR41X_OPgnYH"
      },
      "source": [
        "# 增加维度到4维\n",
        "train_images_4 = train_images.reshape((60000, 28, 28, 1))\n",
        "test_images_4 = test_images.reshape((10000, 28, 28, 1))"
      ],
      "execution_count": 24,
      "outputs": []
    },
    {
      "cell_type": "code",
      "metadata": {
        "colab": {
          "base_uri": "https://localhost:8080/"
        },
        "id": "H8-1keCwg244",
        "outputId": "0de8dfd0-0f09-4164-e550-fc566943808f"
      },
      "source": [
        "train_images.shape"
      ],
      "execution_count": 25,
      "outputs": [
        {
          "output_type": "execute_result",
          "data": {
            "text/plain": [
              "(60000, 28, 28)"
            ]
          },
          "metadata": {
            "tags": []
          },
          "execution_count": 25
        }
      ]
    },
    {
      "cell_type": "code",
      "metadata": {
        "colab": {
          "base_uri": "https://localhost:8080/"
        },
        "id": "1Y8xkQj5bO2s",
        "outputId": "909ea921-db77-47ad-88ca-2fbac80a2a8e"
      },
      "source": [
        "\n",
        "model_c.compile(optimizer='adam',\n",
        "              loss='sparse_categorical_crossentropy',\n",
        "              metrics=['accuracy'])\n",
        "history = model_c.fit(train_images_4, train_labels, epochs=5, \n",
        "                    validation_data=(test_images_4, test_labels))"
      ],
      "execution_count": 27,
      "outputs": [
        {
          "output_type": "stream",
          "text": [
            "Epoch 1/5\n",
            "1875/1875 [==============================] - 57s 30ms/step - loss: 0.4231 - accuracy: 0.8641 - val_loss: 0.0577 - val_accuracy: 0.9804\n",
            "Epoch 2/5\n",
            "1875/1875 [==============================] - 57s 30ms/step - loss: 0.0644 - accuracy: 0.9796 - val_loss: 0.0506 - val_accuracy: 0.9845\n",
            "Epoch 3/5\n",
            "1875/1875 [==============================] - 57s 30ms/step - loss: 0.0454 - accuracy: 0.9860 - val_loss: 0.0389 - val_accuracy: 0.9866\n",
            "Epoch 4/5\n",
            "1875/1875 [==============================] - 57s 30ms/step - loss: 0.0352 - accuracy: 0.9888 - val_loss: 0.0327 - val_accuracy: 0.9898\n",
            "Epoch 5/5\n",
            "1875/1875 [==============================] - 57s 30ms/step - loss: 0.0276 - accuracy: 0.9911 - val_loss: 0.0284 - val_accuracy: 0.9904\n"
          ],
          "name": "stdout"
        }
      ]
    },
    {
      "cell_type": "code",
      "metadata": {
        "colab": {
          "base_uri": "https://localhost:8080/",
          "height": 283
        },
        "id": "QWplu-mkogy3",
        "outputId": "b12dfd39-f86c-49f1-adcf-48db7de1d830"
      },
      "source": [
        "plt.plot(history.history['accuracy'], label='accuracy')\n",
        "plt.plot(history.history['val_accuracy'], label = 'val_accuracy')\n",
        "plt.xlabel('Epoch')\n",
        "plt.ylabel('Accuracy')\n",
        "plt.ylim([0.5, 1])\n",
        "plt.legend(loc='lower right')\n",
        "plt.show()\n",
        "\n"
      ],
      "execution_count": 28,
      "outputs": [
        {
          "output_type": "display_data",
          "data": {
            "image/png": "[encoded data removed]",
            "text/plain": [
              "<Figure size 432x288 with 1 Axes>"
            ]
          },
          "metadata": {
            "tags": [],
            "needs_background": "light"
          }
        }
      ]
    },
    {
      "cell_type": "code",
      "metadata": {
        "colab": {
          "base_uri": "https://localhost:8080/"
        },
        "id": "SHZnzmsnovsb",
        "outputId": "780d95b1-718b-4c7b-99a4-ed16e7545624"
      },
      "source": [
        "test_loss, test_acc = model_c.evaluate(test_images_4,  test_labels, verbose=2)\n",
        "print(test_acc)"
      ],
      "execution_count": 29,
      "outputs": [
        {
          "output_type": "stream",
          "text": [
            "313/313 - 3s - loss: 0.0284 - accuracy: 0.9904\n",
            "0.9904000163078308\n"
          ],
          "name": "stdout"
        }
      ]
    },
    {
      "cell_type": "code",
      "metadata": {
        "id": "Qqz7kh-TofuP"
      },
      "source": [
        "# 将整个模型另存为 SavedModel。\n",
        "!mkdir -p saved_model\n",
        "model.save('saved_model/my_model')"
      ],
      "execution_count": null,
      "outputs": []
    }
  ]
}