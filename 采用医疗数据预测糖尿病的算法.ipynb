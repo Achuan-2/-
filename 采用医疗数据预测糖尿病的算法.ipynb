{
 "cells": [
  {
   "cell_type": "markdown",
   "id": "5f56d636-ffff-47c8-a269-657c9cc5afac",
   "metadata": {},
   "source": [
    "https://zhuanlan.zhihu.com/p/35280832  \n",
    "## **步骤1：数据集准备**\n",
    "\n",
    "准备数据集是一件很枯燥的事情，即使有大量的数据，有时也很难找到一个适用于待解决问题的数据集。本文中，我们直接使用UCI机器学习库中的[“Pima Indians Diabetes Database”](https://www.kaggle.com/uciml/pima-indians-diabetes-database)，我们将用机器学习算法来处理它。"
   ]
  },
  {
   "cell_type": "markdown",
   "id": "aa3935ff-19c4-4003-8b41-ecaa75c1176d",
   "metadata": {},
   "source": [
    "## **步骤2：数据分析**\n",
    "\n",
    "导入数据后，首先我们应该对数据集进行分析，从而更好的理解数据和数据集的特征，以便确定是否进行数据清理。\n",
    "\n",
    "首先，导入必要的计算库。"
   ]
  },
  {
   "cell_type": "code",
   "execution_count": 57,
   "id": "1b2e36fd-5432-4912-bb6e-6aac8eb2432f",
   "metadata": {},
   "outputs": [],
   "source": [
    "%matplotlib inline\n",
    "import pandas as pd\n",
    "import numpy as np\n",
    "import matplotlib.pyplot as plt\n",
    "import seaborn as sns\n",
    "diabetes = pd.read_csv('data/diabetes.csv')\n",
    "diabetes.columns \n",
    "# 忽略警告\n",
    "import warnings\n",
    "warnings.filterwarnings(\"ignore\")"
   ]
  },
  {
   "cell_type": "code",
   "execution_count": 2,
   "id": "05493a79-4026-4f75-a0bc-69740252fa20",
   "metadata": {},
   "outputs": [
    {
     "data": {
      "text/html": [
       "<div>\n",
       "<style scoped>\n",
       "    .dataframe tbody tr th:only-of-type {\n",
       "        vertical-align: middle;\n",
       "    }\n",
       "\n",
       "    .dataframe tbody tr th {\n",
       "        vertical-align: top;\n",
       "    }\n",
       "\n",
       "    .dataframe thead th {\n",
       "        text-align: right;\n",
       "    }\n",
       "</style>\n",
       "<table border=\"1\" class=\"dataframe\">\n",
       "  <thead>\n",
       "    <tr style=\"text-align: right;\">\n",
       "      <th></th>\n",
       "      <th>Pregnancies</th>\n",
       "      <th>Glucose</th>\n",
       "      <th>BloodPressure</th>\n",
       "      <th>SkinThickness</th>\n",
       "      <th>Insulin</th>\n",
       "      <th>BMI</th>\n",
       "      <th>DiabetesPedigreeFunction</th>\n",
       "      <th>Age</th>\n",
       "      <th>Outcome</th>\n",
       "    </tr>\n",
       "  </thead>\n",
       "  <tbody>\n",
       "    <tr>\n",
       "      <th>0</th>\n",
       "      <td>6</td>\n",
       "      <td>148</td>\n",
       "      <td>72</td>\n",
       "      <td>35</td>\n",
       "      <td>0</td>\n",
       "      <td>33.6</td>\n",
       "      <td>0.627</td>\n",
       "      <td>50</td>\n",
       "      <td>1</td>\n",
       "    </tr>\n",
       "    <tr>\n",
       "      <th>1</th>\n",
       "      <td>1</td>\n",
       "      <td>85</td>\n",
       "      <td>66</td>\n",
       "      <td>29</td>\n",
       "      <td>0</td>\n",
       "      <td>26.6</td>\n",
       "      <td>0.351</td>\n",
       "      <td>31</td>\n",
       "      <td>0</td>\n",
       "    </tr>\n",
       "    <tr>\n",
       "      <th>2</th>\n",
       "      <td>8</td>\n",
       "      <td>183</td>\n",
       "      <td>64</td>\n",
       "      <td>0</td>\n",
       "      <td>0</td>\n",
       "      <td>23.3</td>\n",
       "      <td>0.672</td>\n",
       "      <td>32</td>\n",
       "      <td>1</td>\n",
       "    </tr>\n",
       "    <tr>\n",
       "      <th>3</th>\n",
       "      <td>1</td>\n",
       "      <td>89</td>\n",
       "      <td>66</td>\n",
       "      <td>23</td>\n",
       "      <td>94</td>\n",
       "      <td>28.1</td>\n",
       "      <td>0.167</td>\n",
       "      <td>21</td>\n",
       "      <td>0</td>\n",
       "    </tr>\n",
       "    <tr>\n",
       "      <th>4</th>\n",
       "      <td>0</td>\n",
       "      <td>137</td>\n",
       "      <td>40</td>\n",
       "      <td>35</td>\n",
       "      <td>168</td>\n",
       "      <td>43.1</td>\n",
       "      <td>2.288</td>\n",
       "      <td>33</td>\n",
       "      <td>1</td>\n",
       "    </tr>\n",
       "  </tbody>\n",
       "</table>\n",
       "</div>"
      ],
      "text/plain": [
       "   Pregnancies  Glucose  BloodPressure  SkinThickness  Insulin   BMI  \\\n",
       "0            6      148             72             35        0  33.6   \n",
       "1            1       85             66             29        0  26.6   \n",
       "2            8      183             64              0        0  23.3   \n",
       "3            1       89             66             23       94  28.1   \n",
       "4            0      137             40             35      168  43.1   \n",
       "\n",
       "   DiabetesPedigreeFunction  Age  Outcome  \n",
       "0                     0.627   50        1  \n",
       "1                     0.351   31        0  \n",
       "2                     0.672   32        1  \n",
       "3                     0.167   21        0  \n",
       "4                     2.288   33        1  "
      ]
     },
     "execution_count": 2,
     "metadata": {},
     "output_type": "execute_result"
    }
   ],
   "source": [
    "diabetes.head()"
   ]
  },
  {
   "cell_type": "code",
   "execution_count": 3,
   "id": "4395c72c-3756-417a-9c79-45b7eac4fd9d",
   "metadata": {},
   "outputs": [
    {
     "name": "stdout",
     "output_type": "stream",
     "text": [
      "Diabetes data set dimensions : (768, 9)\n"
     ]
    }
   ],
   "source": [
    "print(\"Diabetes data set dimensions : {}\".format(diabetes.shape))"
   ]
  },
  {
   "cell_type": "markdown",
   "id": "0e86de21-acb8-4e64-b4dd-4bb5978eb9f9",
   "metadata": {},
   "source": [
    "数据集的维度显示为（768，9）。“Outcome”列标识病人是否患有糖尿病，1代表患病，0代表健康。我们可以计算出768人中，500个标识为0（未患病），268个标识为1（患病）。"
   ]
  },
  {
   "cell_type": "code",
   "execution_count": 6,
   "id": "22cee820-f912-4241-9f1c-5020e50bda9f",
   "metadata": {},
   "outputs": [
    {
     "data": {
      "text/plain": [
       "Outcome\n",
       "0    500\n",
       "1    268\n",
       "dtype: int64"
      ]
     },
     "execution_count": 6,
     "metadata": {},
     "output_type": "execute_result"
    }
   ],
   "source": [
    "diabetes.groupby('Outcome').size()"
   ]
  },
  {
   "cell_type": "code",
   "execution_count": 62,
   "id": "4a27d85e-ab33-42d1-9834-8f1266d8810d",
   "metadata": {},
   "outputs": [
    {
     "data": {
      "text/plain": [
       "array([[<AxesSubplot:title={'center':'Pregnancies'}>,\n",
       "        <AxesSubplot:title={'center':'Glucose'}>,\n",
       "        <AxesSubplot:title={'center':'BloodPressure'}>],\n",
       "       [<AxesSubplot:title={'center':'SkinThickness'}>,\n",
       "        <AxesSubplot:title={'center':'Insulin'}>,\n",
       "        <AxesSubplot:title={'center':'BMI'}>],\n",
       "       [<AxesSubplot:title={'center':'DiabetesPedigreeFunction'}>,\n",
       "        <AxesSubplot:title={'center':'Age'}>,\n",
       "        <AxesSubplot:title={'center':'Outcome'}>]], dtype=object)"
      ]
     },
     "execution_count": 62,
     "metadata": {},
     "output_type": "execute_result"
    },
    {
     "data": {
      "image/png": "[encoded data removed]",
      "text/plain": [
       "<Figure size 648x648 with 9 Axes>"
      ]
     },
     "metadata": {
      "needs_background": "light"
     },
     "output_type": "display_data"
    }
   ],
   "source": [
    "# 这一句学到了，这样就可以直接看每一列的分布情况了\n",
    "diabetes.hist(figsize=(9, 9))"
   ]
  },
  {
   "cell_type": "markdown",
   "id": "fe3dda09-6f6a-44eb-a981-9d59c674be28",
   "metadata": {},
   "source": [
    "## **步骤 3：数据清理**\n",
    "\n",
    "数据清理过程中，需要考虑一下几个方面。\n",
    "\n",
    "（1）重复或无关的数据\n",
    "\n",
    "（2）错误标识的数据，或者多次出现相同的标识\n",
    "\n",
    "（3）缺失或空的数据点\n",
    "\n",
    "（4）异常值\n",
    "\n",
    "因为我们使用的是标准数据库，所以可以假定第（1）、（2）条已经被处理过了。所以我们重点考察缺失的数据点和异常值。\n",
    "\n",
    "**缺失或空数据点**\n",
    "\n",
    "可以采用如下的函数来搜寻缺失或空缺的数据点。"
   ]
  },
  {
   "cell_type": "code",
   "execution_count": 9,
   "id": "465f2841-19d7-473e-a288-b3f93a3ef963",
   "metadata": {},
   "outputs": [
    {
     "data": {
      "text/plain": [
       "Pregnancies                 0\n",
       "Glucose                     0\n",
       "BloodPressure               0\n",
       "SkinThickness               0\n",
       "Insulin                     0\n",
       "BMI                         0\n",
       "DiabetesPedigreeFunction    0\n",
       "Age                         0\n",
       "Outcome                     0\n",
       "dtype: int64"
      ]
     },
     "execution_count": 9,
     "metadata": {},
     "output_type": "execute_result"
    }
   ],
   "source": [
    "diabetes.isnull().sum()\n",
    "diabetes.isna().sum()"
   ]
  },
  {
   "cell_type": "markdown",
   "id": "e47049c4-b35f-4cb5-98d5-b869130da7be",
   "metadata": {},
   "source": [
    "结果并未发现空缺数据点，如果存在的化，我们就需要对其进行相应的处理。"
   ]
  },
  {
   "cell_type": "markdown",
   "id": "146294c6-a2c5-4a0b-83f6-29021863d527",
   "metadata": {},
   "source": [
    "**异常值**\n",
    "\n",
    "分析直方图时，我们发现某些列存在一些异常值，所以需要进行深入分析并确定如何处理它们。\n",
    "\n",
    "血压（Blood pressure）:通过分析数据，我们发现有些血压值为0。很明显，一个正常人的血压不可能为0，所以这些数据是错误的。"
   ]
  },
  {
   "cell_type": "code",
   "execution_count": 12,
   "id": "4c1f2851-001e-40d4-b916-cc52c9409b28",
   "metadata": {},
   "outputs": [
    {
     "name": "stdout",
     "output_type": "stream",
     "text": [
      "Total :  35\n",
      "Outcome\n",
      "0    19\n",
      "1    16\n",
      "Name: Age, dtype: int64\n"
     ]
    }
   ],
   "source": [
    "print(\"Total : \", diabetes[diabetes.BloodPressure == 0].shape[0])\n",
    "print(diabetes[diabetes.BloodPressure == 0].groupby('Outcome')['Age'].count())"
   ]
  },
  {
   "cell_type": "markdown",
   "id": "6bd6f292-1f18-4af9-a67f-3d884c3ab92c",
   "metadata": {},
   "source": [
    "对于以上的异常数据，可以采用以下几种方法进行处理：\n",
    "\n",
    "移除异常值：通常该方法难以实现，因为移除数据意味着会丢失有价值的数据。本例中，皮褶厚度和胰岛素两列出现了大量的异常值，若移除它们，则会丢失其他列的有效数据。\n",
    "采用平均值： 该方法对于某些数据集是适用的，但对于本例来说，对血压项设置为平均值会给模型引入较大的误差。\n",
    "弃用特征： 对于出现大量异常值的特征，有时可考虑弃用该特征（如皮褶厚度），但通过较难判断是否会影响模型的准确性。\n",
    "通过分析数据，我们可以得知采用的数据集并不完整。经过综合分析，因为本例仅是为了验证算法的可行性，所以我们决定移除血压、BMI和血糖各特征中为0值的行。"
   ]
  },
  {
   "cell_type": "code",
   "execution_count": 15,
   "id": "cf908c11-e5a2-4340-a2ef-bd74bef343a6",
   "metadata": {},
   "outputs": [
    {
     "name": "stdout",
     "output_type": "stream",
     "text": [
      "(724, 9)\n"
     ]
    }
   ],
   "source": [
    "diabetes_mod = diabetes[(diabetes.BloodPressure != 0) & (diabetes.BMI != 0) & (diabetes.Glucose != 0)]\n",
    "print(diabetes_mod.shape)"
   ]
  },
  {
   "cell_type": "markdown",
   "id": "90ec8449-8767-4656-9420-d478984b4283",
   "metadata": {},
   "source": [
    "## 步骤4：特征工程  \n",
    "特征过程是指将数据转换成特征，从而更好的去建模、优化和提高准确率的过程。\n",
    "对于本文的算例，我们采用的是成熟的数据集，无法进一步的创建或消除任何数据点了，所以我们选择以下特征创建模型。"
   ]
  },
  {
   "cell_type": "code",
   "execution_count": 17,
   "id": "deffb807-aadc-4826-91ee-58d57e59cb6b",
   "metadata": {},
   "outputs": [
    {
     "data": {
      "text/html": [
       "<div>\n",
       "<style scoped>\n",
       "    .dataframe tbody tr th:only-of-type {\n",
       "        vertical-align: middle;\n",
       "    }\n",
       "\n",
       "    .dataframe tbody tr th {\n",
       "        vertical-align: top;\n",
       "    }\n",
       "\n",
       "    .dataframe thead th {\n",
       "        text-align: right;\n",
       "    }\n",
       "</style>\n",
       "<table border=\"1\" class=\"dataframe\">\n",
       "  <thead>\n",
       "    <tr style=\"text-align: right;\">\n",
       "      <th></th>\n",
       "      <th>Pregnancies</th>\n",
       "      <th>Glucose</th>\n",
       "      <th>BloodPressure</th>\n",
       "      <th>SkinThickness</th>\n",
       "      <th>Insulin</th>\n",
       "      <th>BMI</th>\n",
       "      <th>DiabetesPedigreeFunction</th>\n",
       "      <th>Age</th>\n",
       "      <th>Outcome</th>\n",
       "    </tr>\n",
       "  </thead>\n",
       "  <tbody>\n",
       "    <tr>\n",
       "      <th>0</th>\n",
       "      <td>6</td>\n",
       "      <td>148</td>\n",
       "      <td>72</td>\n",
       "      <td>35</td>\n",
       "      <td>0</td>\n",
       "      <td>33.6</td>\n",
       "      <td>0.627</td>\n",
       "      <td>50</td>\n",
       "      <td>1</td>\n",
       "    </tr>\n",
       "    <tr>\n",
       "      <th>1</th>\n",
       "      <td>1</td>\n",
       "      <td>85</td>\n",
       "      <td>66</td>\n",
       "      <td>29</td>\n",
       "      <td>0</td>\n",
       "      <td>26.6</td>\n",
       "      <td>0.351</td>\n",
       "      <td>31</td>\n",
       "      <td>0</td>\n",
       "    </tr>\n",
       "    <tr>\n",
       "      <th>2</th>\n",
       "      <td>8</td>\n",
       "      <td>183</td>\n",
       "      <td>64</td>\n",
       "      <td>0</td>\n",
       "      <td>0</td>\n",
       "      <td>23.3</td>\n",
       "      <td>0.672</td>\n",
       "      <td>32</td>\n",
       "      <td>1</td>\n",
       "    </tr>\n",
       "    <tr>\n",
       "      <th>3</th>\n",
       "      <td>1</td>\n",
       "      <td>89</td>\n",
       "      <td>66</td>\n",
       "      <td>23</td>\n",
       "      <td>94</td>\n",
       "      <td>28.1</td>\n",
       "      <td>0.167</td>\n",
       "      <td>21</td>\n",
       "      <td>0</td>\n",
       "    </tr>\n",
       "    <tr>\n",
       "      <th>4</th>\n",
       "      <td>0</td>\n",
       "      <td>137</td>\n",
       "      <td>40</td>\n",
       "      <td>35</td>\n",
       "      <td>168</td>\n",
       "      <td>43.1</td>\n",
       "      <td>2.288</td>\n",
       "      <td>33</td>\n",
       "      <td>1</td>\n",
       "    </tr>\n",
       "    <tr>\n",
       "      <th>...</th>\n",
       "      <td>...</td>\n",
       "      <td>...</td>\n",
       "      <td>...</td>\n",
       "      <td>...</td>\n",
       "      <td>...</td>\n",
       "      <td>...</td>\n",
       "      <td>...</td>\n",
       "      <td>...</td>\n",
       "      <td>...</td>\n",
       "    </tr>\n",
       "    <tr>\n",
       "      <th>763</th>\n",
       "      <td>10</td>\n",
       "      <td>101</td>\n",
       "      <td>76</td>\n",
       "      <td>48</td>\n",
       "      <td>180</td>\n",
       "      <td>32.9</td>\n",
       "      <td>0.171</td>\n",
       "      <td>63</td>\n",
       "      <td>0</td>\n",
       "    </tr>\n",
       "    <tr>\n",
       "      <th>764</th>\n",
       "      <td>2</td>\n",
       "      <td>122</td>\n",
       "      <td>70</td>\n",
       "      <td>27</td>\n",
       "      <td>0</td>\n",
       "      <td>36.8</td>\n",
       "      <td>0.340</td>\n",
       "      <td>27</td>\n",
       "      <td>0</td>\n",
       "    </tr>\n",
       "    <tr>\n",
       "      <th>765</th>\n",
       "      <td>5</td>\n",
       "      <td>121</td>\n",
       "      <td>72</td>\n",
       "      <td>23</td>\n",
       "      <td>112</td>\n",
       "      <td>26.2</td>\n",
       "      <td>0.245</td>\n",
       "      <td>30</td>\n",
       "      <td>0</td>\n",
       "    </tr>\n",
       "    <tr>\n",
       "      <th>766</th>\n",
       "      <td>1</td>\n",
       "      <td>126</td>\n",
       "      <td>60</td>\n",
       "      <td>0</td>\n",
       "      <td>0</td>\n",
       "      <td>30.1</td>\n",
       "      <td>0.349</td>\n",
       "      <td>47</td>\n",
       "      <td>1</td>\n",
       "    </tr>\n",
       "    <tr>\n",
       "      <th>767</th>\n",
       "      <td>1</td>\n",
       "      <td>93</td>\n",
       "      <td>70</td>\n",
       "      <td>31</td>\n",
       "      <td>0</td>\n",
       "      <td>30.4</td>\n",
       "      <td>0.315</td>\n",
       "      <td>23</td>\n",
       "      <td>0</td>\n",
       "    </tr>\n",
       "  </tbody>\n",
       "</table>\n",
       "<p>724 rows × 9 columns</p>\n",
       "</div>"
      ],
      "text/plain": [
       "     Pregnancies  Glucose  BloodPressure  SkinThickness  Insulin   BMI  \\\n",
       "0              6      148             72             35        0  33.6   \n",
       "1              1       85             66             29        0  26.6   \n",
       "2              8      183             64              0        0  23.3   \n",
       "3              1       89             66             23       94  28.1   \n",
       "4              0      137             40             35      168  43.1   \n",
       "..           ...      ...            ...            ...      ...   ...   \n",
       "763           10      101             76             48      180  32.9   \n",
       "764            2      122             70             27        0  36.8   \n",
       "765            5      121             72             23      112  26.2   \n",
       "766            1      126             60              0        0  30.1   \n",
       "767            1       93             70             31        0  30.4   \n",
       "\n",
       "     DiabetesPedigreeFunction  Age  Outcome  \n",
       "0                       0.627   50        1  \n",
       "1                       0.351   31        0  \n",
       "2                       0.672   32        1  \n",
       "3                       0.167   21        0  \n",
       "4                       2.288   33        1  \n",
       "..                        ...  ...      ...  \n",
       "763                     0.171   63        0  \n",
       "764                     0.340   27        0  \n",
       "765                     0.245   30        0  \n",
       "766                     0.349   47        1  \n",
       "767                     0.315   23        0  \n",
       "\n",
       "[724 rows x 9 columns]"
      ]
     },
     "execution_count": 17,
     "metadata": {},
     "output_type": "execute_result"
    }
   ],
   "source": [
    "diabetes_mod"
   ]
  },
  {
   "cell_type": "code",
   "execution_count": 69,
   "id": "3a96e53a-ac10-40de-8777-09142f4ba20b",
   "metadata": {},
   "outputs": [],
   "source": [
    "X = diabetes_mod.iloc[:,:-1]\n",
    "y = diabetes_mod.Outcome"
   ]
  },
  {
   "cell_type": "markdown",
   "id": "7b478b30-726f-4d6c-bead-9318bf8b0832",
   "metadata": {},
   "source": [
    "## **步骤 5：模型选择**\n",
    "\n",
    "模型选择或算法选择是机器学习中最有趣和最核心的部分。在该环节，我们会选择出对数据集表现最好的模型（算法）来进行预测。\n",
    "\n",
    "我们会计算不同分类模型（在默认参数下）的分类准确率（或测试准确率），从而确定对数据集拟合最优的模型。首先，我们导入 7 种不同的分类器，分别为：**K-Nearest Neighbors, Support Vector Classifier, Logistic Regression, Gaussian Naive Bayes, Random Forest and Gradient Boost。**"
   ]
  },
  {
   "cell_type": "code",
   "execution_count": 21,
   "id": "26ff6474-3edd-4f86-81a6-9ba81575be3c",
   "metadata": {},
   "outputs": [],
   "source": [
    "from sklearn.neighbors import KNeighborsClassifier\n",
    "from sklearn.svm import SVC\n",
    "from sklearn.linear_model import LogisticRegression\n",
    "from sklearn.tree import DecisionTreeClassifier\n",
    "from sklearn.naive_bayes import GaussianNB\n",
    "from sklearn.ensemble import RandomForestClassifier\n",
    "from sklearn.ensemble import GradientBoostingClassifier"
   ]
  },
  {
   "cell_type": "code",
   "execution_count": 22,
   "id": "cc2e46d6-e62a-405e-97fd-c6b75f51ec0c",
   "metadata": {},
   "outputs": [],
   "source": [
    "# 然后，将各个分类器按默认参数初始化，并建立一个模型列表。\n",
    "models = []\n",
    "models.append(('KNN', KNeighborsClassifier()))\n",
    "models.append(('SVC', SVC()))\n",
    "models.append(('LR', LogisticRegression()))\n",
    "models.append(('DT', DecisionTreeClassifier()))\n",
    "models.append(('GNB', GaussianNB()))\n",
    "models.append(('RF', RandomForestClassifier()))\n",
    "models.append(('GB', GradientBoostingClassifier()))"
   ]
  },
  {
   "cell_type": "markdown",
   "id": "99418090-7731-41d9-a082-344fdce8d950",
   "metadata": {},
   "source": [
    "### 计算方法\n",
    "\n",
    "为了避免过拟合的发生，我们通常开展以下两方面的工作。\n",
    "\n",
    "训练/测试数据划分\n",
    "K折叠交叉验证（K-Fold Cross Validation）\n",
    "这里，我们将用“train_test_split”函数进行数据划分，“cross_val_score”函数进行K折叠交叉验证。通过这两个步骤，我们可以确定适用于数据集的最优分类器模型。"
   ]
  },
  {
   "cell_type": "code",
   "execution_count": 23,
   "id": "7e45b4d7-e5a8-4571-b9e1-ce4d8943d745",
   "metadata": {},
   "outputs": [],
   "source": [
    "from sklearn.model_selection import train_test_split\n",
    "from sklearn.model_selection import cross_val_score\n",
    "from sklearn.metrics import accuracy_score"
   ]
  },
  {
   "cell_type": "markdown",
   "id": "ae76fa8e-d236-40d1-ba13-b2254be8755b",
   "metadata": {},
   "source": [
    "### 训练/测试数据划分\n",
    "\n",
    "通过划分，我们将数据集分为两个部分，训练数据集（Training set）和测试数据集（Testing set）。训练数据集用来训练模型，测试数据集用来评估模型的准确率。"
   ]
  },
  {
   "cell_type": "code",
   "execution_count": 25,
   "id": "056814cb-004b-41f3-abb6-f9a378178e7d",
   "metadata": {},
   "outputs": [],
   "source": [
    "X_train, X_test, y_train, y_test = train_test_split(X, y, stratify = diabetes_mod.Outcome, random_state=0)"
   ]
  },
  {
   "cell_type": "code",
   "execution_count": 31,
   "id": "2dd2c38b-3e6c-4980-b394-4221239592c2",
   "metadata": {},
   "outputs": [
    {
     "name": "stdout",
     "output_type": "stream",
     "text": [
      "  Name     Score\n",
      "0  KNN  0.729282\n",
      "1  SVC  0.740331\n",
      "2   LR  0.762431\n",
      "3   DT  0.751381\n",
      "4  GNB  0.734807\n",
      "5   RF  0.779006\n",
      "6   GB  0.773481\n"
     ]
    }
   ],
   "source": [
    "# 然后我们用“accuracy_score”来计算各个模型的准确率。\n",
    "names = []\n",
    "scores = []\n",
    "for name, model in models:\n",
    "    model.fit(X_train, y_train)\n",
    "    y_pred = model.predict(X_test)\n",
    "    scores.append(accuracy_score(y_test, y_pred))\n",
    "    names.append(name)\n",
    "tr_split = pd.DataFrame({'Name': names, 'Score': scores})\n",
    "print(tr_split)"
   ]
  },
  {
   "cell_type": "markdown",
   "id": "e2f84959-9a94-4c11-986d-d813af7bb0de",
   "metadata": {},
   "source": [
    "### K折叠交叉验证\n",
    "\n",
    "对于个分类或回归问题，假设有多个可选的模型为。K-折叠交叉验证就是将训练集的1/k作为测试集，每个模型训练k次，测试k次，错误率为k次的平均，最终选择平均率最小的模型Mi。"
   ]
  },
  {
   "cell_type": "markdown",
   "id": "d3cd78cf-9029-4610-aa63-7a9dfd7912a1",
   "metadata": {},
   "source": [
    "KFold(n_splits=’warn’, shuffle=False, random_state=None)\n",
    "参数:\n",
    "n_splits 表示划分为几块（至少是2）\n",
    "\n",
    "shuffle 表示是否打乱划分，默认False，即不打乱\n",
    "\n",
    "random_state 表示是否固定随机起点，Used when shuffle == True."
   ]
  },
  {
   "cell_type": "code",
   "execution_count": 32,
   "id": "ffa14acf-ca3b-4670-9085-f281ef00deaf",
   "metadata": {
    "scrolled": true,
    "tags": []
   },
   "outputs": [
    {
     "name": "stdout",
     "output_type": "stream",
     "text": [
      "  Name     Score\n",
      "0  KNN  0.707116\n",
      "1  SVC  0.752778\n",
      "2   LR  0.765240\n",
      "3   DT  0.685008\n",
      "4  GNB  0.752683\n",
      "5   RF  0.762405\n",
      "6   GB  0.752721\n"
     ]
    }
   ],
   "source": [
    "from sklearn.model_selection import KFold\n",
    "names = []\n",
    "scores = []\n",
    "for name, model in models:\n",
    "    \n",
    "    kfold = KFold(n_splits=10, shuffle=True,random_state=10) \n",
    "    score = cross_val_score(model, X, y, cv=kfold, scoring='accuracy').mean()\n",
    "    \n",
    "    names.append(name)\n",
    "    scores.append(score)\n",
    "kf_cross_val = pd.DataFrame({'Name': names, 'Score': scores})\n",
    "print(kf_cross_val)"
   ]
  },
  {
   "cell_type": "code",
   "execution_count": 71,
   "id": "0247a11c-113d-4b70-8c15-bd8f6130abbb",
   "metadata": {},
   "outputs": [
    {
     "data": {
      "text/plain": [
       "[<matplotlib.patches.Rectangle at 0x16fab040400>,\n",
       " <matplotlib.patches.Rectangle at 0x16fab040640>,\n",
       " <matplotlib.patches.Rectangle at 0x16fab040940>,\n",
       " <matplotlib.patches.Rectangle at 0x16fab040c10>,\n",
       " <matplotlib.patches.Rectangle at 0x16fab040ee0>,\n",
       " <matplotlib.patches.Rectangle at 0x16faa17c1f0>,\n",
       " <matplotlib.patches.Rectangle at 0x16faa17c4c0>]"
      ]
     },
     "execution_count": 71,
     "metadata": {},
     "output_type": "execute_result"
    }
   ],
   "source": [
    "axis.patches "
   ]
  },
  {
   "cell_type": "code",
   "execution_count": 72,
   "id": "f8affb27-f7ce-4239-88f7-b219b917c1cf",
   "metadata": {},
   "outputs": [
    {
     "data": {
      "image/png": "[encoded data removed]",
      "text/plain": [
       "<Figure size 432x288 with 1 Axes>"
      ]
     },
     "metadata": {
      "needs_background": "light"
     },
     "output_type": "display_data"
    }
   ],
   "source": [
    "axis = sns.barplot(data = kf_cross_val,x = 'Name', y = 'Score' )\n",
    "axis.set(xlabel='Classifier', ylabel='Accuracy')\n",
    "for p in axis.patches: # 大概是返回每个柱子对象\n",
    "    height = p.get_height() # 获取高度\n",
    "    x = p.get_x() + p.get_width()/2 # 确定x坐标\n",
    "    axis.text(x, height + 0.005, '{:1.4f}'.format(height), ha=\"center\") \n",
    "plt.show()"
   ]
  },
  {
   "cell_type": "markdown",
   "id": "73fe8072-f3d9-4446-afc0-ec8ce2f9c4ee",
   "metadata": {},
   "source": [
    "可以看到，二元回归算法（Logistic Regression）的准确率最高（77.64%），因此我们选择二元回归作为数据集的模型。"
   ]
  },
  {
   "cell_type": "markdown",
   "id": "eca0f11d-45a5-4573-88bf-b05bcc29f3f0",
   "metadata": {},
   "source": [
    "## **步骤 6：模型参数调整**\n",
    "\n",
    "采用默认参数，二元回归模型获得了较好的预测准确率。接下来，我们将对模型的参数进行调整，优化模型，从而获得更准确的模型。本例采用的是 GridSearchCV 方法，该方法通过交叉验证对参数空间进行求解，寻找最佳的参数。 \n",
    "\n",
    "首先，导入 GridSearchCV 方法。"
   ]
  },
  {
   "cell_type": "code",
   "execution_count": 41,
   "id": "cdac418f-170c-4507-96ef-775629ab70ab",
   "metadata": {},
   "outputs": [],
   "source": [
    "from sklearn.model_selection import GridSearchCV"
   ]
  },
  {
   "cell_type": "markdown",
   "id": "03b7c57f-0a29-4947-a356-b1750257ddb8",
   "metadata": {},
   "source": [
    "然后，给出二元回归模型的参数列表。"
   ]
  },
  {
   "cell_type": "code",
   "execution_count": 38,
   "id": "2e56db33-405b-4293-863c-24b5d498f1f7",
   "metadata": {},
   "outputs": [],
   "source": [
    "# Specify parameters\n",
    "c_values = list(np.arange(1, 10))\n",
    "param_grid = [\n",
    "    {'C': c_values, 'penalty': ['l1'], 'solver' : ['liblinear'], 'multi_class' : ['ovr']},\n",
    "   {'C': c_values, 'penalty': ['l2'], 'solver' : ['liblinear', 'newton-cg', 'lbfgs'], 'multi_class' : ['ovr']}\n",
    "]"
   ]
  },
  {
   "cell_type": "markdown",
   "id": "e3c573ad-8712-42ae-a24f-091c404d8954",
   "metadata": {},
   "source": [
    "将数据输入GridSearchCV，通过交叉验证来确认不同参数的组合效果。"
   ]
  },
  {
   "cell_type": "code",
   "execution_count": 55,
   "id": "a562165d-0462-4278-9ed2-d0ab9412a242",
   "metadata": {},
   "outputs": [],
   "source": [
    "strat_k_fold=KFold(n_splits=10, shuffle=True,random_state=10) "
   ]
  },
  {
   "cell_type": "code",
   "execution_count": 53,
   "id": "2682f2dd-d7a7-4e35-9261-5e222be969b3",
   "metadata": {},
   "outputs": [
    {
     "data": {
      "text/plain": [
       "GridSearchCV(cv=KFold(n_splits=10, random_state=10, shuffle=True),\n",
       "             estimator=LogisticRegression(),\n",
       "             param_grid=[{'C': [1, 2, 3, 4, 5, 6, 7, 8, 9],\n",
       "                          'multi_class': ['ovr'], 'penalty': ['l1'],\n",
       "                          'solver': ['liblinear']},\n",
       "                         {'C': [1, 2, 3, 4, 5, 6, 7, 8, 9],\n",
       "                          'multi_class': ['ovr'], 'penalty': ['l2'],\n",
       "                          'solver': ['liblinear', 'newton-cg', 'lbfgs']}],\n",
       "             scoring='accuracy')"
      ]
     },
     "execution_count": 53,
     "metadata": {},
     "output_type": "execute_result"
    }
   ],
   "source": [
    "grid = GridSearchCV(LogisticRegression(), param_grid, cv=strat_k_fold, scoring='accuracy')\n",
    "grid.fit(X, y)"
   ]
  },
  {
   "cell_type": "code",
   "execution_count": 54,
   "id": "873ce2ca-b723-499c-b618-9653feab9291",
   "metadata": {},
   "outputs": [
    {
     "name": "stdout",
     "output_type": "stream",
     "text": [
      "{'C': 3, 'multi_class': 'ovr', 'penalty': 'l1', 'solver': 'liblinear'}\n",
      "LogisticRegression(C=3, multi_class='ovr', penalty='l1', solver='liblinear')\n"
     ]
    }
   ],
   "source": [
    "print(grid.best_params_)\n",
    "print(grid.best_estimator_)"
   ]
  },
  {
   "cell_type": "markdown",
   "id": "fbf14d9c-57e4-425d-826a-8563e97eceac",
   "metadata": {},
   "source": [
    "经过分析，我们确定最优的超参数如下：\n",
    "{'C': 2, 'multi_class': 'ovr', 'penalty': 'l2', 'solver': 'liblinear'}\n",
    "LogisticRegression(C=2, multi_class='ovr', solver='liblinear')"
   ]
  },
  {
   "cell_type": "markdown",
   "id": "31598ac1-baa2-49e7-8bd9-63f61418c9b2",
   "metadata": {},
   "source": [
    "将优化后的参数输入回二元回归模型，可以看到模型预测的准确度得到了提升。"
   ]
  },
  {
   "cell_type": "code",
   "execution_count": 66,
   "id": "cea8233b-1b1c-4ee7-a66c-59a053a441fc",
   "metadata": {},
   "outputs": [
    {
     "name": "stdout",
     "output_type": "stream",
     "text": [
      "Final accuracy : 0.7707191780821917 \n"
     ]
    }
   ],
   "source": [
    "logreg_new = LogisticRegression(C=3, multi_class='ovr', penalty='l2', solver='liblinear')\n",
    "initial_score = cross_val_score(logreg_new, X, y, cv=strat_k_fold, scoring='accuracy').mean()\n",
    "print(\"Final accuracy : {} \".format(initial_score))\n"
   ]
  }
 ],
 "metadata": {
  "kernelspec": {
   "display_name": "Python 3",
   "language": "python",
   "name": "python3"
  },
  "language_info": {
   "codemirror_mode": {
    "name": "ipython",
    "version": 3
   },
   "file_extension": ".py",
   "mimetype": "text/x-python",
   "name": "python",
   "nbconvert_exporter": "python",
   "pygments_lexer": "ipython3",
   "version": "3.8.5"
  }
 },
 "nbformat": 4,
 "nbformat_minor": 5
}
